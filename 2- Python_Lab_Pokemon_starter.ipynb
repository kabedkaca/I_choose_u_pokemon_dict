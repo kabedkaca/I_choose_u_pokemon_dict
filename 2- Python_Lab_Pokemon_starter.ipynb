{
 "cells": [
  {
   "cell_type": "markdown",
   "metadata": {},
   "source": [
    "<img src=\"https://www.peoplecert.org/-/media/peoplecert/images/tc-images/peoplelogy-skill/peopleogy-logo.png?h=966&iar=0&w=2231&hash=28DD04BA69030200BD7ADEA1370449B3\" style=\"float: left; margin: 20px; height: 55px\">\n",
    "\n",
    "# Lab 1.01: Data Structures and Python with Pokemon\n",
    "\n",
    "## Building \"Pokemon Stay\"\n",
    "\n",
    "---\n",
    "You are an analyst at a \"scrappy\" online gaming company that specializes in remakes of last year's fads.\n",
    "\n",
    "Your boss, who runs the product development team, is convinced that Pokemon Go's fatal flaw was that you had to actually move around outside. She has design mock-ups for a new game called \"Pokemon Stay.\" in this version players still need to move, but just from website to website. Pokemon gyms are now popular online destinations, and catching Pokemon in the \"wild\" simply requires browsing the internet for hours in the comfort of your home."
   ]
  },
  {
   "cell_type": "markdown",
   "metadata": {},
   "source": [
    "## Before we start\n",
    "\n",
    "---\n",
    "We're going to take a quick minute to explore nesting behavior of dictionaries and lists. Consider the following data:"
   ]
  },
  {
   "cell_type": "code",
   "execution_count": 280,
   "metadata": {},
   "outputs": [],
   "source": [
    "dsi_lecture_times = {\n",
    "    'WC': {\n",
    "        'LA': {\n",
    "            'M': [9, 2],\n",
    "            'T': [9, 2],\n",
    "            'W': [9, 2],\n",
    "            'Th': [9],\n",
    "            'F': [9]},\n",
    "        'SEA': {\n",
    "            'M': [9, 2],\n",
    "            'T': [9, 2],\n",
    "            'W': [9, 2],\n",
    "            'Th': [9],\n",
    "            'F': [9]},\n",
    "        'DEN': {\n",
    "            'M': [10, 3],\n",
    "            'T': [10, 3],\n",
    "            'W': [10, 3],\n",
    "            'Th': [10],\n",
    "            'F': [10]},\n",
    "        'SF': {\n",
    "            'M': [9, 2],\n",
    "            'T': [9, 2],\n",
    "            'W': [9, 2],\n",
    "            'Th': [9],\n",
    "            'F': [9]}},\n",
    "    'EC': {\n",
    "        'BOS': {\n",
    "            'M': [10, 3],\n",
    "            'T': [10, 3],\n",
    "            'W': [10, 3],\n",
    "            'Th': [10],\n",
    "            'F': [10]},\n",
    "        'NYC': {\n",
    "            'M': [10, 3],\n",
    "            'T': [10, 3],\n",
    "            'W': [10, 3],\n",
    "            'Th': [10],\n",
    "            'F': [10]},\n",
    "        'DC': {\n",
    "            'M': [10, 3],\n",
    "            'T': [10, 3],\n",
    "            'W': [10, 3],\n",
    "            'Th': [10],\n",
    "            'F': [10]},\n",
    "        'ATX': {\n",
    "            'M': [9, 2],\n",
    "            'T': [9, 2],\n",
    "            'W': [9, 2],\n",
    "            'Th': [9],\n",
    "            'F': [9]},\n",
    "        'CHI': {\n",
    "            'M': [9, 2],\n",
    "            'T': [9, 2],\n",
    "            'W': [9, 2],\n",
    "            'Th': [9],\n",
    "            'F': [9]},\n",
    "        'ATL': {\n",
    "            'M': [10, 3],\n",
    "            'T': [10, 3],\n",
    "            'W': [10, 3],\n",
    "            'Th': [10],\n",
    "            'F': [10]}}\n",
    "    }"
   ]
  },
  {
   "cell_type": "markdown",
   "metadata": {},
   "source": [
    "This dictionary contains the start times for the global lectures for each of the 10 DSI-CC campuses. The top level indicates the coast. The next level contains the 2 or 3 letter city codes corresponding to the campuses. The next level contains the 5 days of the week; each day of the week contains a list of 1 or 2 integers corresponding to the start time(s) of the day's lectures.\n",
    "\n",
    "Let's set our objective as accessing the **start time of the second Wednesday lecture in Chicago**.\n",
    "\n",
    "Let's look at how the whole dict is rendered as an output in a Jupyter."
   ]
  },
  {
   "cell_type": "code",
   "execution_count": 281,
   "metadata": {},
   "outputs": [
    {
     "data": {
      "text/plain": [
       "{'WC': {'LA': {'M': [9, 2], 'T': [9, 2], 'W': [9, 2], 'Th': [9], 'F': [9]},\n",
       "  'SEA': {'M': [9, 2], 'T': [9, 2], 'W': [9, 2], 'Th': [9], 'F': [9]},\n",
       "  'DEN': {'M': [10, 3], 'T': [10, 3], 'W': [10, 3], 'Th': [10], 'F': [10]},\n",
       "  'SF': {'M': [9, 2], 'T': [9, 2], 'W': [9, 2], 'Th': [9], 'F': [9]}},\n",
       " 'EC': {'BOS': {'M': [10, 3],\n",
       "   'T': [10, 3],\n",
       "   'W': [10, 3],\n",
       "   'Th': [10],\n",
       "   'F': [10]},\n",
       "  'NYC': {'M': [10, 3], 'T': [10, 3], 'W': [10, 3], 'Th': [10], 'F': [10]},\n",
       "  'DC': {'M': [10, 3], 'T': [10, 3], 'W': [10, 3], 'Th': [10], 'F': [10]},\n",
       "  'ATX': {'M': [9, 2], 'T': [9, 2], 'W': [9, 2], 'Th': [9], 'F': [9]},\n",
       "  'CHI': {'M': [9, 2], 'T': [9, 2], 'W': [9, 2], 'Th': [9], 'F': [9]},\n",
       "  'ATL': {'M': [10, 3], 'T': [10, 3], 'W': [10, 3], 'Th': [10], 'F': [10]}}}"
      ]
     },
     "execution_count": 281,
     "metadata": {},
     "output_type": "execute_result"
    }
   ],
   "source": [
    "dsi_lecture_times"
   ]
  },
  {
   "cell_type": "markdown",
   "metadata": {},
   "source": [
    "We can see that curly braces (i.e., `{}`) and individual spaces are used to separate layers. Because this can be hard to see, oftentimes we'll use the `keys` method on a dictionary to see what the current level of a dictionary contains. If we approach a dict one level at a time, it's easy to drill down to our objective."
   ]
  },
  {
   "cell_type": "code",
   "execution_count": 282,
   "metadata": {},
   "outputs": [
    {
     "data": {
      "text/plain": [
       "dict_keys(['WC', 'EC'])"
      ]
     },
     "execution_count": 282,
     "metadata": {},
     "output_type": "execute_result"
    }
   ],
   "source": [
    "dsi_lecture_times.keys()"
   ]
  },
  {
   "cell_type": "markdown",
   "metadata": {},
   "source": [
    "Once you identify the key you want to access, use square brackets (i.e., `[]`) to access the value associated with that key."
   ]
  },
  {
   "cell_type": "code",
   "execution_count": 283,
   "metadata": {},
   "outputs": [
    {
     "data": {
      "text/plain": [
       "{'BOS': {'M': [10, 3], 'T': [10, 3], 'W': [10, 3], 'Th': [10], 'F': [10]},\n",
       " 'NYC': {'M': [10, 3], 'T': [10, 3], 'W': [10, 3], 'Th': [10], 'F': [10]},\n",
       " 'DC': {'M': [10, 3], 'T': [10, 3], 'W': [10, 3], 'Th': [10], 'F': [10]},\n",
       " 'ATX': {'M': [9, 2], 'T': [9, 2], 'W': [9, 2], 'Th': [9], 'F': [9]},\n",
       " 'CHI': {'M': [9, 2], 'T': [9, 2], 'W': [9, 2], 'Th': [9], 'F': [9]},\n",
       " 'ATL': {'M': [10, 3], 'T': [10, 3], 'W': [10, 3], 'Th': [10], 'F': [10]}}"
      ]
     },
     "execution_count": 283,
     "metadata": {},
     "output_type": "execute_result"
    }
   ],
   "source": [
    "dsi_lecture_times['EC']"
   ]
  },
  {
   "cell_type": "markdown",
   "metadata": {},
   "source": [
    "It appears that we're still working with a dict. Let's check the type."
   ]
  },
  {
   "cell_type": "code",
   "execution_count": 284,
   "metadata": {},
   "outputs": [
    {
     "data": {
      "text/plain": [
       "dict"
      ]
     },
     "execution_count": 284,
     "metadata": {},
     "output_type": "execute_result"
    }
   ],
   "source": [
    "type(dsi_lecture_times['EC'])"
   ]
  },
  {
   "cell_type": "markdown",
   "metadata": {},
   "source": [
    "It is, in fact, a dictionary. This means that we can use dictionary methods on it. Let's look at the keys."
   ]
  },
  {
   "cell_type": "code",
   "execution_count": 285,
   "metadata": {},
   "outputs": [
    {
     "data": {
      "text/plain": [
       "dict_keys(['BOS', 'NYC', 'DC', 'ATX', 'CHI', 'ATL'])"
      ]
     },
     "execution_count": 285,
     "metadata": {},
     "output_type": "execute_result"
    }
   ],
   "source": [
    "dsi_lecture_times['EC'].keys()"
   ]
  },
  {
   "cell_type": "markdown",
   "metadata": {},
   "source": [
    "We can continue to add `[]` with our desired key because **`dsi_lecture_times['EC']`** points directly to a dict and operates in the same way a variable name pointing to a dict would."
   ]
  },
  {
   "cell_type": "code",
   "execution_count": 286,
   "metadata": {},
   "outputs": [
    {
     "data": {
      "text/plain": [
       "{'M': [9, 2], 'T': [9, 2], 'W': [9, 2], 'Th': [9], 'F': [9]}"
      ]
     },
     "execution_count": 286,
     "metadata": {},
     "output_type": "execute_result"
    }
   ],
   "source": [
    "dsi_lecture_times['EC']['CHI']"
   ]
  },
  {
   "cell_type": "markdown",
   "metadata": {},
   "source": [
    "At this point, you can probably guess how we can access the times for Wednesday. Just add the `['W']` key."
   ]
  },
  {
   "cell_type": "code",
   "execution_count": 287,
   "metadata": {},
   "outputs": [
    {
     "data": {
      "text/plain": [
       "[9, 2]"
      ]
     },
     "execution_count": 287,
     "metadata": {},
     "output_type": "execute_result"
    }
   ],
   "source": [
    "dsi_lecture_times['EC']['CHI']['W']"
   ]
  },
  {
   "cell_type": "markdown",
   "metadata": {},
   "source": [
    "Let's check the type of this final level."
   ]
  },
  {
   "cell_type": "code",
   "execution_count": 288,
   "metadata": {},
   "outputs": [
    {
     "data": {
      "text/plain": [
       "list"
      ]
     },
     "execution_count": 288,
     "metadata": {},
     "output_type": "execute_result"
    }
   ],
   "source": [
    "type(dsi_lecture_times['EC']['CHI']['W'])"
   ]
  },
  {
   "cell_type": "markdown",
   "metadata": {},
   "source": [
    "Because it is a `list` and lists are 0-indexed, to capture the time of the 2nd lecture, we'll use `[1]`. So, to directly access the time of the afternoon lecture in Chicago on Wedensdays, we'll use the following:"
   ]
  },
  {
   "cell_type": "code",
   "execution_count": 289,
   "metadata": {},
   "outputs": [
    {
     "data": {
      "text/plain": [
       "2"
      ]
     },
     "execution_count": 289,
     "metadata": {},
     "output_type": "execute_result"
    }
   ],
   "source": [
    "dsi_lecture_times['EC']['CHI']['W'][1]"
   ]
  },
  {
   "cell_type": "markdown",
   "metadata": {},
   "source": [
    "**Don't get overwhelmed trying to go directly to your target.** Drill down through your data one level at a time, and you're less likely to get lost.\n",
    "___\n",
    "\n",
    "Now, let's [dig(lett)](https://pokemondb.net/pokedex/diglett) into some Pokemon data.\n",
    "\n",
    "![diglett](./images/diglett.jpg)\n",
    "\n",
    "Remember, nested dicts aren't aren't [magik(arp)](https://pokemondb.net/pokedex/magikarp).\n",
    "\n",
    "![magikarp](./images/magikarp.jpg)"
   ]
  },
  {
   "cell_type": "markdown",
   "metadata": {},
   "source": [
    "## 1. Defining a player\n",
    "\n",
    "Each player needs to have a set of characteristics, stored in variables, such as an id, a username, play data, etc. A great structure to house these variables is a `dictionary`, because the `values` can contain any python datatype including `list`, `dict`, `tuple`, `int`, `float`, `bool`, or `str`. \n",
    "\n",
    "The player variables are:\n",
    "\n",
    "    player_id : id code unique to each player (integer)\n",
    "    player_name : entered name of the player (string)\n",
    "    time_played : number of time played the game in minutes (float)\n",
    "    player_pokemon: the player's captured pokemon (dictionary)\n",
    "    gyms_visited: ids of the gyms that a player has visited (list)\n",
    "\n",
    "### A) Create a `dict` for a single player.\n",
    "\n",
    "* The variable name should be `player_1`.\n",
    "* The `player_id` should be 1.\n",
    "* Since the player doesn't have a name yet, you may set the `player_name` equal to `None`.\n",
    "* The rest of the fields should be populated properly depending on the datatype."
   ]
  },
  {
   "cell_type": "code",
   "execution_count": 64,
   "metadata": {},
   "outputs": [
    {
     "data": {
      "text/plain": [
       "{'player_id': 1, 'player_name': None}"
      ]
     },
     "execution_count": 64,
     "metadata": {},
     "output_type": "execute_result"
    }
   ],
   "source": [
    "#CREATE A DICTIONARY\n",
    "player_1 = None\n",
    "#ni sub-dict ka???\n",
    "player_1 = {\n",
    "    \"player_id\" : 1, \n",
    "    \"player_name\" : None\n",
    "}\n",
    "player_1"
   ]
  },
  {
   "cell_type": "markdown",
   "metadata": {},
   "source": [
    "### B) Create a `dict` to house your dataset of players.\n",
    "\n",
    "* The dictionary storing your players should be called `poke_players`.\n",
    "* Because only `player_1` exists, there should only be one `key:value` pair. \n",
    "* The `keys` of this `dict` should be the `player_id`, and the `values` should be the dictionaries with single-player info, including the `player_id` (slightly redundant).\n",
    "\n",
    "Make sure to check that your `poke_players` dictionary looks right after you've added `player_1`. To see the contents of a variable, just run a code cell with the variable name in it."
   ]
  },
  {
   "cell_type": "code",
   "execution_count": 65,
   "metadata": {},
   "outputs": [
    {
     "data": {
      "text/plain": [
       "{'player_1': {'player_id': 1, 'player_name': None}}"
      ]
     },
     "execution_count": 65,
     "metadata": {},
     "output_type": "execute_result"
    }
   ],
   "source": [
    "poke_players = None\n",
    "#player_1\n",
    "poke_players = {\n",
    "    \"player_1\": {\n",
    "        \"player_id\" : 1,\n",
    "        \"player_name\": None,\n",
    "    }\n",
    "    \n",
    "}\n",
    "\n",
    "poke_players"
   ]
  },
  {
   "cell_type": "markdown",
   "metadata": {},
   "source": [
    "#what if kalau nak buat dari empty dict?\n",
    "#poke_player = {} #buat yang ni, pastuuuuuuuuu apaaa\n",
    "#poke_player.update({\"player_1\":}.,klk;sw\n",
    "#poke_player.update()   ni function dia\n",
    "#{\"player_1\": player_1} - ni isi dictionary\n",
    "#Make sure to check that your poke_players dictionary looks right after you've added player_1. \n",
    "#To see the contents of a variable, just run a code cell with the variable name in it.\n",
    "#poke_players.update({\"player_1\": player_1})\n",
    "#poke_players"
   ]
  },
  {
   "cell_type": "markdown",
   "metadata": {},
   "source": [
    "### C) Update player 1's info with your own.\n",
    "\n",
    "* By indexing your `poke_players` dictionary, update the `player_name` field to your own name.\n",
    "* Display the `poke_players` dict to check your work."
   ]
  },
  {
   "cell_type": "code",
   "execution_count": 66,
   "metadata": {},
   "outputs": [
    {
     "name": "stdout",
     "output_type": "stream",
     "text": [
      "None\n"
     ]
    }
   ],
   "source": [
    "#indexing is kita call out value dengan guna key\n",
    "print(poke_players['player_1']['player_name'])"
   ]
  },
  {
   "cell_type": "code",
   "execution_count": 67,
   "metadata": {},
   "outputs": [
    {
     "data": {
      "text/plain": [
       "{'player_1': {'player_id': 1, 'player_name': 'Jibah'}}"
      ]
     },
     "execution_count": 67,
     "metadata": {},
     "output_type": "execute_result"
    }
   ],
   "source": [
    "#update is basically added into dict\n",
    "#dict_name[the key] = 'any string u want to update as value'\n",
    "poke_players['player_1']['player_name'] = 'Jibah'\n",
    "poke_players"
   ]
  },
  {
   "cell_type": "markdown",
   "metadata": {},
   "source": [
    "### D) Define a function that adds a player to `poke_players`.\n",
    "\n",
    "Your function should...\n",
    "\n",
    "* Take arguments for `players_dict`, `player_id`, and `player_name`.\n",
    "* Create a player with the above values and populate the `gyms_visited`, `player_pokemon`, and `time_played` accordingly.\n",
    "* Add a second player to the `players` dictionary. The id should be 2, but the name is up to you!\n",
    "\n",
    "Display your `poke_players` to check your work."
   ]
  },
  {
   "cell_type": "markdown",
   "metadata": {},
   "source": [
    "###### METHOD RENYAH TAPI OUTPUT LAWA\n",
    "###### TUKAR DARI MARKDOWN KE CODE IF NAK GUNA, BUT WHY LAIN OUTPUT DIA DENGAN CODE BAWAH?\n",
    "def add_player(players_dict, player_id, player_name):\n",
    "    new_player = {\n",
    "       \"player_id\": player_id,\n",
    "        \"player_name\": player_name,\n",
    "        \"gyms_visited\": [],\n",
    "        \"player_pokemon\": [],\n",
    "        \"time_played\": 0.0\n",
    "    }\n",
    "    players_dict[player_id] = new_player\n",
    "\n",
    "add_player(poke_players, 2, 'Hannan')\n",
    "print(poke_players)"
   ]
  },
  {
   "cell_type": "code",
   "execution_count": 71,
   "metadata": {},
   "outputs": [],
   "source": [
    "def add_player(players_dict, player_id, player_name, gyms_visited, player_pokemon, time_played):  #dlm kurungan parameter kita nak tiapkali run def\n",
    "    players_dict[player_id] = { #kita buat players_dict sebagai storage utk simpan maklumat player tiap kali kita add\n",
    "        'player_id': player_id, \n",
    "        'player_name': player_name,\n",
    "        'gyms_visited': [], #list nanti boleh edit \n",
    "        'player_pokemon': {},\n",
    "        'time_played': 0.0\n",
    "    } #lengkaplah satu dict utk funct tambah add_player"
   ]
  },
  {
   "cell_type": "code",
   "execution_count": 69,
   "metadata": {},
   "outputs": [],
   "source": [
    "def add_player(players_dict, player_id, player_name):\n",
    "    pass"
   ]
  },
  {
   "cell_type": "markdown",
   "metadata": {},
   "source": [
    "### E) Add a new player\n",
    "\n",
    "* Add a second player to the `poke_players` dictionary using the `add_player` function. The `id` should be 2, but the `name` is up to you!\n",
    "* Reassign and overwrite the `poke_players` dictionary.\n",
    "\n",
    "Make sure to display the contents of `poke_players` to check your work."
   ]
  },
  {
   "cell_type": "code",
   "execution_count": 72,
   "metadata": {},
   "outputs": [
    {
     "data": {
      "text/plain": [
       "{'player_1': {'player_id': 1, 'player_name': 'Jibah'},\n",
       " 2: {'player_id': 2,\n",
       "  'player_name': 'Hannan',\n",
       "  'gyms_visited': [],\n",
       "  'player_pokemon': {},\n",
       "  'time_played': 0.0}}"
      ]
     },
     "execution_count": 72,
     "metadata": {},
     "output_type": "execute_result"
    }
   ],
   "source": [
    "add_player(poke_players, 2, \"Hannan\", [], [], 0.0)  \n",
    "#display \n",
    "poke_players"
   ]
  },
  {
   "cell_type": "code",
   "execution_count": 73,
   "metadata": {},
   "outputs": [
    {
     "data": {
      "text/plain": [
       "{1: {'player_id': 1,\n",
       "  'player_name': 'Jibah',\n",
       "  'gyms_visited': [],\n",
       "  'player_pokemon': {},\n",
       "  'time_played': 0.0},\n",
       " 2: {'player_id': 2,\n",
       "  'player_name': 'Hannan',\n",
       "  'gyms_visited': [],\n",
       "  'player_pokemon': {},\n",
       "  'time_played': 0.0}}"
      ]
     },
     "execution_count": 73,
     "metadata": {},
     "output_type": "execute_result"
    }
   ],
   "source": [
    "#reassigned\n",
    "#poke_players as empty dict to renew?\n",
    "#sebab dict lama pelik?\n",
    "poke_players = {}\n",
    "#function(dict name, value for key1, value for key2, etc..)\n",
    "add_player(poke_players, 1, \"Jibah\", [], [], 0.0)\n",
    "add_player(poke_players, 2, \"Hannan\", [], [], 0.0) \n",
    "poke_players"
   ]
  },
  {
   "cell_type": "markdown",
   "metadata": {},
   "source": [
    "## 2. Defining \"gym\" locations\n",
    "\n",
    "---\n",
    "\n",
    "As the sole programmer, Pokemon Stay will have to start small. To begin, there will be 10 different gym location websites on the internet. The gym locations are:\n",
    "\n",
    "    1. 'reddit.com'\n",
    "    2. 'amazon.com'\n",
    "    3. 'twitter.com'\n",
    "    4. 'linkedin.com'\n",
    "    5. 'ebay.com'\n",
    "    6. 'netflix.com'\n",
    "    7. 'stackoverflow.com'\n",
    "    8. 'github.com'\n",
    "    9. 'quora.com'\n",
    "    10. 'google.com'\n",
    "\n",
    "* Set up a list of all the gym locations. This will be a list of strings. Print the list to check your work.\n",
    "* For each player in `poke_players`, use `sample` (imported from `random` below) to randomly select 2 gyms and add these gyms to the `gyms_visited` field.\n",
    "* Display the `poke_players` dict to check your work."
   ]
  },
  {
   "cell_type": "code",
   "execution_count": null,
   "metadata": {},
   "outputs": [],
   "source": [
    "from random import sample"
   ]
  },
  {
   "cell_type": "code",
   "execution_count": null,
   "metadata": {},
   "outputs": [],
   "source": [
    "# Run this cell a few times to understand sample. Play around with the function!\n",
    "this_list = ['apple', 1, ('a','b','c'), 0.8]\n",
    "sample(this_list, 3)"
   ]
  },
  {
   "cell_type": "code",
   "execution_count": 74,
   "metadata": {},
   "outputs": [
    {
     "data": {
      "text/plain": [
       "{1: {'player_id': 1,\n",
       "  'player_name': 'Jibah',\n",
       "  'gyms_visited': [],\n",
       "  'player_pokemon': {},\n",
       "  'time_played': 0.0},\n",
       " 2: {'player_id': 2,\n",
       "  'player_name': 'Hannan',\n",
       "  'gyms_visited': [],\n",
       "  'player_pokemon': {},\n",
       "  'time_played': 0.0}}"
      ]
     },
     "execution_count": 74,
     "metadata": {},
     "output_type": "execute_result"
    }
   ],
   "source": [
    "poke_players #ni original tanpa ada isi gym lagi"
   ]
  },
  {
   "cell_type": "code",
   "execution_count": 79,
   "metadata": {},
   "outputs": [],
   "source": [
    "from random import sample"
   ]
  },
  {
   "cell_type": "code",
   "execution_count": 80,
   "metadata": {},
   "outputs": [],
   "source": [
    "gym_location = ['reddit.com','amazon.com','twitter.com','linkedin.com','ebay.com','netflix.com','stackoverflow.com','github.com','quora.com','google.com']\n",
    "gym = sample(gym_location, 2)\n",
    "#set code random import sebagai gym ke dalam dict untuk kita call out"
   ]
  },
  {
   "cell_type": "code",
   "execution_count": 81,
   "metadata": {},
   "outputs": [
    {
     "data": {
      "text/plain": [
       "{'gym_select': ['reddit.com', 'amazon.com']}"
      ]
     },
     "execution_count": 81,
     "metadata": {},
     "output_type": "execute_result"
    }
   ],
   "source": [
    "gym_select ={ 'gym_select' : gym, }  #ni kita set dict untuk gym select\n",
    "gym_select"
   ]
  },
  {
   "cell_type": "code",
   "execution_count": 82,
   "metadata": {},
   "outputs": [
    {
     "data": {
      "text/plain": [
       "{1: {'player_id': 1,\n",
       "  'player_name': 'Jibah',\n",
       "  'gyms_visited': 'reddit.com',\n",
       "  'player_pokemon': {},\n",
       "  'time_played': 0.0},\n",
       " 2: {'player_id': 2,\n",
       "  'player_name': 'Hannan',\n",
       "  'gyms_visited': 'amazon.com',\n",
       "  'player_pokemon': {},\n",
       "  'time_played': 0.0}}"
      ]
     },
     "execution_count": 82,
     "metadata": {},
     "output_type": "execute_result"
    }
   ],
   "source": [
    "poke_players[1]['gyms_visited'] = gym_select['gym_select'][0]  #untuk add value ke key gyms_visited, dia akn ikut run yang dict gym_select\n",
    "poke_players[2]['gyms_visited'] = gym_select['gym_select'][1]\n",
    "poke_players"
   ]
  },
  {
   "cell_type": "markdown",
   "metadata": {},
   "source": [
    "##### REJECTED add_gym_to_player\n",
    "#def add_gym_to_player\n",
    "\n",
    "def add_gyms(player_id, gyms_visited):\n",
    "    # Check if player_id exists in poke_players\n",
    "    if player_id in poke_players:\n",
    "        # Access the player's dictionary and update gyms_visited field\n",
    "        poke_players[player_id][\"gyms_visited\"].extend(gyms)\n",
    "        print(f\"Gyms added to player {player_id}: {gyms}\")\n",
    "    else:\n",
    "        print(f\"Player {player_id} not found.\")\n",
    "#Add gyms to player 1\n",
    "add_gyms(1, gyms_to_add)"
   ]
  },
  {
   "cell_type": "markdown",
   "metadata": {},
   "source": [
    "## 3. Create a Pokedex\n",
    "\n",
    "We also need to create some Pokemon to catch! Let's store the attributes of each Pokemon in a `dictionary`, since each Pokemon has many characteristics we'd like to store.\n",
    "\n",
    "\n",
    "Each Pokemon will be defined by these variables:\n",
    "\n",
    "    poke_id : unique identifier for each Pokemon (integer, sequential)\n",
    "    poke_name : the name of the Pokemon (string)\n",
    "    poke_type : the category of Pokemon (string)\n",
    "    hp : base hit points (integer between 400 and 500)\n",
    "    attack : base attack (integer between 50 and 100)\n",
    "    defense : base defense (integer between 50 and 100)\n",
    "    special_attack : base special attack (integer between 100 and 150)\n",
    "    special_defense : base special defense (integer between 100 and 150)\n",
    "    speed : base speed (integer between 0 and 100)\n",
    "\n",
    "### A) Create a function called `create_pokemon`\n",
    "\n",
    "* The function should take arguments for `poke_id`, `poke_name`, and `poke_type`.\n",
    "* Use `np.random.randint` to generate values for the numeric attributes based on the conditions above. If you're not clear on how this function works, there is a cell below with an example. Play around with it!\n",
    "* The function should return a `dict` for the Pokemon.\n",
    "* Without assigning it to a variable, check the function's output by calling it with the following arguments:\n",
    "  * `poke_id = 1`\n",
    "  * `poke_name = 'charmander'`\n",
    "  * `poke_type = 'fire'`"
   ]
  },
  {
   "cell_type": "code",
   "execution_count": 83,
   "metadata": {},
   "outputs": [],
   "source": [
    "import numpy as np"
   ]
  },
  {
   "cell_type": "code",
   "execution_count": null,
   "metadata": {},
   "outputs": [],
   "source": [
    "# Play around with this cell to understand np.random.randint!\n",
    "np.random.randint(0,10)"
   ]
  },
  {
   "cell_type": "code",
   "execution_count": null,
   "metadata": {},
   "outputs": [],
   "source": [
    "def create_pokemon(poke_id, poke_name, poke_type):\n",
    "    pass"
   ]
  },
  {
   "cell_type": "code",
   "execution_count": 357,
   "metadata": {},
   "outputs": [
    {
     "data": {
      "text/plain": [
       "{'poke_id': 1, 'poke_name': 'charmander', 'poke_type': 'fire'}"
      ]
     },
     "execution_count": 357,
     "metadata": {},
     "output_type": "execute_result"
    }
   ],
   "source": [
    "def create_pokemon(poke_id, poke_name, poke_type):\n",
    "    return {\n",
    "        'poke_id': poke_id,\n",
    "        'poke_name': poke_name,\n",
    "        'poke_type': poke_type,\n",
    "    }  # Don't forget to return the dictionary\n",
    "#this happen; >> <function __main__.create_pokemon(poke_id, poke_name, poke_type)>  bcos i put no argument\n",
    "# as in the one below, \n",
    "create_pokemon(1, 'charmander', 'fire')\n",
    "#without assigning variable"
   ]
  },
  {
   "cell_type": "markdown",
   "metadata": {},
   "source": [
    "### B) Populate the `pokedex`!\n",
    "\n",
    "Now we need some Pokemon to catch. Let's create a dictionary to store the information!\n",
    "\n",
    "* Instantiate an empty dictionary called `pokedex`.\n",
    "* Define a function called `create_and_add_to_pokedex`. This function should...\n",
    "  * Take arguments for `pokedex`,  `poke_id`, `poke_name`, and `poke_type`.\n",
    "  * Uses the `create_pokemon` function you created earlier to create a pokemon using the provided `poke_id`, `poke_name`, and `poke_type`.\n",
    "  * Add a new `key:value` pair to the `pokedex` dictionary where:\n",
    "    * the `key` is the `poke_id`, and\n",
    "    * the `value` is the newly-created pokemon dict, including the `poke_id` (this is slightly redundant, but that's ok!)\n",
    "  * Prints the name of the Pokemon added to the Pokedex using `str.format()`\n",
    "* Add the following 3 Pokemon to your `pokedex` using `create_and_add_to_pokedex`:\n",
    "\n",
    "|Id|Name|Type|\n",
    "|---|---|---|\n",
    "|1|charmander|fire|\n",
    "|2|squirtle|water|\n",
    "|3|bulbasaur|poison|\n",
    "\n",
    "Display your `pokedex` to check your work. It should look something like...\n",
    "\n",
    "```python\n",
    "{1: {'attack': 64,\n",
    "  'defense': 59,\n",
    "  'hp': 495,\n",
    "  'poke_id': 1,\n",
    "  'poke_name': 'charmander',\n",
    "  'poke_type': 'fire',\n",
    "  'special_attack': 100,\n",
    "  ...\n",
    "```"
   ]
  },
  {
   "cell_type": "code",
   "execution_count": null,
   "metadata": {},
   "outputs": [],
   "source": [
    "def create_and_add_to_pokedex(pokedex, poke_id, poke_name, poke_type, ):\n",
    "    pass"
   ]
  },
  {
   "cell_type": "markdown",
   "metadata": {},
   "source": [
    "## CANCELLED\n",
    "def create_and_add_to_pokedex(pokedex, poke_id, poke_name, poke_type, ):\n",
    "    pokemon = create_pokemon = {\n",
    "        'poke_id': poke_id,\n",
    "        'poke_name': poke_name,\n",
    "        'poke_type': poke_type,\n",
    "    }   #kenapa still kena list out dict utk create_pokemon? sdgkan dah run dah dict tu?\n",
    "    #SEBAB lupa letak argument utk create_pokemon and also no return utk defining def\n",
    "    pokedex[poke_id]= pokemon    "
   ]
  },
  {
   "cell_type": "code",
   "execution_count": 358,
   "metadata": {},
   "outputs": [],
   "source": [
    "def create_and_add_to_pokedex(pokedex, poke_id, poke_name, poke_type):\n",
    "    pokemon = create_pokemon(poke_id, poke_name, poke_type)\n",
    "    pokedex[poke_id] = pokemon"
   ]
  },
  {
   "cell_type": "code",
   "execution_count": 359,
   "metadata": {},
   "outputs": [
    {
     "data": {
      "text/plain": [
       "{1: {'poke_id': 1, 'poke_name': 'charmander', 'poke_type': 'fire'},\n",
       " 2: {'poke_id': 2, 'poke_name': 'squirtle', 'poke_type': 'water'},\n",
       " 3: {'poke_id': 3, 'poke_name': 'bulbasaur', 'poke_type': 'poison'}}"
      ]
     },
     "execution_count": 359,
     "metadata": {},
     "output_type": "execute_result"
    }
   ],
   "source": [
    "#create dict for pokedex\n",
    "pokedex = {}\n",
    "\n",
    "create_and_add_to_pokedex(pokedex, 1, 'charmander', 'fire', )\n",
    "create_and_add_to_pokedex(pokedex, 2, 'squirtle', 'water', )\n",
    "create_and_add_to_pokedex(pokedex, 3, 'bulbasaur', 'poison', )\n",
    "\n",
    "pokedex\n",
    "# key: value\n",
    "# poke_id : create_pokemon kan? so value utk pokedex adalah create_pokemon dict"
   ]
  },
  {
   "cell_type": "markdown",
   "metadata": {},
   "source": [
    "## 4. Let's capture some Pokemon!\n",
    "\n",
    "The `player_pokemon` keyed dictionaries for each player keep track of which of the Pokemon each player has.\n",
    "\n",
    "The keys of the `player_pokemon` dictionaries are the Pokemon ids that correspond to the ids in the `pokedex` dictionary you created earlier, and the values are the individual Pokemon dicts. Just like your `pokedex`, but for each player individually!\n",
    "\n",
    "* Define a function called `add_pokemon_to_player` that...\n",
    "  * Takes arguents for `player_id`, `poke_id`, `player_dict`, and `pokedex`.\n",
    "  * Adds the desired pokemon to the `player_pokemon` field of the specified player\n",
    "  * Prints which pokemon was added to which player.\n",
    "* Use your function to add squirtle to player 1, and add charmander and bulbasaur to player 2\n",
    "* Display your `poke_players` to check your work."
   ]
  },
  {
   "cell_type": "code",
   "execution_count": null,
   "metadata": {},
   "outputs": [],
   "source": [
    "def add_pokemon_to_player(player_id, poke_id, player_dict, pokedex):\n",
    "    pass"
   ]
  },
  {
   "cell_type": "code",
   "execution_count": 360,
   "metadata": {},
   "outputs": [
    {
     "data": {
      "text/plain": [
       "{1: {'player_id': 1,\n",
       "  'player_name': 'Jibah',\n",
       "  'gyms_visited': 'ebay.com',\n",
       "  'player_pokemon': {1: {'poke_id': 1,\n",
       "    'poke_name': 'charmander',\n",
       "    'poke_type': 'fire'}},\n",
       "  'time_played': 0.0},\n",
       " 2: {'player_id': 2,\n",
       "  'player_name': 'Hannan',\n",
       "  'gyms_visited': 'amazon.com',\n",
       "  'player_pokemon': {2: {'poke_id': 2,\n",
       "    'poke_name': 'squirtle',\n",
       "    'poke_type': 'water'},\n",
       "   3: {'poke_id': 3, 'poke_name': 'bulbasaur', 'poke_type': 'poison'}},\n",
       "  'time_played': 0.0}}"
      ]
     },
     "execution_count": 360,
     "metadata": {},
     "output_type": "execute_result"
    }
   ],
   "source": [
    "poke_players"
   ]
  },
  {
   "cell_type": "markdown",
   "metadata": {},
   "source": [
    "def add_pokemon_to_player(player_id, poke_id, player_dict, pokedex):\n",
    "    poke_players[player_id]['player_pokemon'] = pokedex\n",
    "\n",
    "add_pokemon_to_player(poke_players, 0, pokedex[0])"
   ]
  },
  {
   "cell_type": "code",
   "execution_count": 89,
   "metadata": {},
   "outputs": [
    {
     "name": "stdout",
     "output_type": "stream",
     "text": [
      "Player not found.\n"
     ]
    }
   ],
   "source": [
    "def add_pokemon_to_player(poke_players, player_id, pokedex):\n",
    "    if player_id in poke_players is True:\n",
    "        poke_players[player_id]['player_pokemon'].append(pokedex)\n",
    "        return poke_players\n",
    "    else:\n",
    "        print(\"Player not found.\")\n",
    "\n",
    "# Example usage:\n",
    "add_pokemon_to_player(poke_players, 1,  {'poke_id': 1, 'poke_name': 'charmander', 'poke_type': 'fire'})"
   ]
  },
  {
   "cell_type": "code",
   "execution_count": 90,
   "metadata": {},
   "outputs": [],
   "source": [
    "def add_pokemon_to_player_pokemon(poke_players, player_id, pokedex, poke_id):\n",
    "    \n",
    "    #Add a pokemon from the Pokedex to the player_pokemon inside the player_dict.\n",
    "    '''\n",
    "    - poke_players: dict storing player info,\n",
    "    - player_id (int): The ID of the player.\n",
    "    - pokedex (dict): The dictionary representing the Pokedex.\n",
    "    - poke_id (int): The ID of the Pokemon to be added.\n",
    "\n",
    "    Returns:\n",
    "    - dict: The modified poke_players dictionary...\n",
    "    '''\n",
    "    #Check payer_id wujud dak dalam poke_players\n",
    "    if player_id in poke_players:\n",
    "        # Retrieve the Pokemon details from the pokedex using the pokemon_id...okkkkk\n",
    "        if poke_id in pokedex:\n",
    "            pokemon_details = pokedex[poke_id]\n",
    "            # Add the retrieved Pokemon details to the player_pokemon dictionary of the specified player????//\n",
    "            poke_players[player_id]['player_pokemon'][poke_id] = pokemon_details  #what the heck??? maksudnya segala poke dict masuk dalam ni??\n",
    "            print(\"Pokemon added successfully.\")\n",
    "        else:\n",
    "            print(\"Pokemon not found in the Pokédex.\")\n",
    "    else:\n",
    "        print(\"Player not found.\")\n",
    "\n",
    "    return poke_players\n"
   ]
  },
  {
   "cell_type": "markdown",
   "metadata": {},
   "source": [
    "* Call your function three times to add\n",
    "    * squirtle to player 1\n",
    "    * charmander to player 2\n",
    "    * bulbasaur to player 2\n",
    "* Overwrite your poke_player variable each time with the updated dictionary.\n",
    "* Display the contents of poke_players to check your work."
   ]
  },
  {
   "cell_type": "code",
   "execution_count": 91,
   "metadata": {},
   "outputs": [
    {
     "name": "stdout",
     "output_type": "stream",
     "text": [
      "Pokemon added successfully.\n",
      "Pokemon added successfully.\n",
      "Pokemon added successfully.\n"
     ]
    },
    {
     "data": {
      "text/plain": [
       "{1: {'player_id': 1,\n",
       "  'player_name': 'Jibah',\n",
       "  'gyms_visited': 'reddit.com',\n",
       "  'player_pokemon': {1: {'poke_id': 1,\n",
       "    'poke_name': 'charmander',\n",
       "    'poke_type': 'fire'}},\n",
       "  'time_played': 0.0},\n",
       " 2: {'player_id': 2,\n",
       "  'player_name': 'Hannan',\n",
       "  'gyms_visited': 'amazon.com',\n",
       "  'player_pokemon': {2: {'poke_id': 2,\n",
       "    'poke_name': 'squirtle',\n",
       "    'poke_type': 'water'},\n",
       "   3: {'poke_id': 3, 'poke_name': 'bulbasaur', 'poke_type': 'poison'}},\n",
       "  'time_played': 0.0}}"
      ]
     },
     "execution_count": 91,
     "metadata": {},
     "output_type": "execute_result"
    }
   ],
   "source": [
    "poke_players = add_pokemon_to_player_pokemon(poke_players, 1, pokedex, 1)\n",
    "poke_players = add_pokemon_to_player_pokemon(poke_players, 2, pokedex, 2)\n",
    "poke_players = add_pokemon_to_player_pokemon(poke_players, 2, pokedex, 3)\n",
    "poke_players"
   ]
  },
  {
   "cell_type": "markdown",
   "metadata": {},
   "source": [
    "## 5. What gyms have players visited?\n",
    "\n",
    "### A) Checking gyms\n",
    "\n",
    "Write a for-loop that:\n",
    "\n",
    "1. Iterates through the `pokemon_gyms` list of gym locations you defined before.\n",
    "2. For each gym, iterate through each player in the `players` dictionary with a second, internal for-loop.\n",
    "3. If the player has visited the gym, print out \"[player] has visited [gym location].\", filling in [player] and [gym location] with the current player's name and current gym location."
   ]
  },
  {
   "cell_type": "code",
   "execution_count": 131,
   "metadata": {},
   "outputs": [
    {
     "name": "stdout",
     "output_type": "stream",
     "text": [
      "Jibah has visited ebay.com.\n",
      "Hannan has visited amazon.com.\n"
     ]
    }
   ],
   "source": [
    "pokemon_gyms = ['ebay.com' , 'amazon.com']\n",
    "# internal for-loop - iterates through each player in the players dictionary. \n",
    "#It iterates over key-value pairs, in the players dictionary, using the .items() method\n",
    "#.items() method:  return a view object that displays a list of a dictionary's key-value pairs as tuples. oooo\n",
    "#.items() method is a convenient way to iterate over both keys and values in a dictionary simultaneously.\n",
    "poke_players = {\n",
    "    1: {'player_id': 1,\n",
    "  'player_name': 'Jibah',\n",
    "  'gyms_visited': 'ebay.com',\n",
    "  'player_pokemon': {1: {'poke_id': 1,\n",
    "    'poke_name': 'charmander',\n",
    "    'poke_type': 'fire'}},\n",
    "  'time_played': 0.0},\n",
    " 2: {'player_id': 2,\n",
    "  'player_name': 'Hannan',\n",
    "  'gyms_visited': 'amazon.com',\n",
    "  'player_pokemon': {2: {'poke_id': 2,\n",
    "    'poke_name': 'squirtle',\n",
    "    'poke_type': 'water'},\n",
    " 3: {'poke_id': 3, 'poke_name': 'bulbasaur', 'poke_type': 'poison'}},\n",
    "  'time_played': 0.0}}\n",
    "\n",
    "\n",
    "'''players = {\n",
    "    1: {'player_id': 1, 'player_name': 'Ash', 'gyms_visited': [\"Pewter City\", \"Cerulean City\"]},\n",
    "    2: {'player_id': 2, 'player_name': 'Misty', 'gyms_visited': [\"Cerulean City\", \"Celadon City\"]}\n",
    "}  #don't want use this, nak try use existing dict\n",
    "'''\n",
    "for gym_location in pokemon_gyms: #variable kan item in pokemon_gyms\n",
    "    for player_id, player_info in poke_players.items():\n",
    "        player_name = player_info['player_name']\n",
    "        gyms_visited = player_info['gyms_visited']\n",
    "        if gym_location in gyms_visited:\n",
    "            print(f\"{player_name} has visited {gym_location}.\")  #f' tu untuk fix kan string , maksudnya takmau ubah2\n",
    "            break  #to exit the inner loop, bila player dah jumpa gym , so for loop ni tak kacau line lepas ni\n"
   ]
  },
  {
   "cell_type": "code",
   "execution_count": 143,
   "metadata": {},
   "outputs": [
    {
     "name": "stdout",
     "output_type": "stream",
     "text": [
      "Alice is 20 years old.\n"
     ]
    }
   ],
   "source": [
    "##### CONTOH CARA GUNA .item()\n",
    "# Define a dictionary of student names and ages\n",
    "students = {'Alice': 20, 'Bob': 22, 'Charlie': 21}\n",
    "\n",
    "# Iterate through the dictionary using the items() method\n",
    "for name, age in students.items(): #basically nak loop thru all key and value\n",
    "    print(f\"{name} is {age} years old.\") \n",
    "    break\n",
    "#NOT RELATED TO QUESTION, JUST FOR REVISION"
   ]
  },
  {
   "cell_type": "markdown",
   "metadata": {},
   "source": [
    "### B) Computational Complexity\n",
    "\n",
    "How many times did that loop run? If you have N gyms and also M players, how many times would it run as a function of N and M? \n",
    "\n",
    "(You can write your answer as Markdown text.)"
   ]
  },
  {
   "cell_type": "markdown",
   "metadata": {},
   "source": [
    "ANSWER\n",
    "As there are two players; M = nr. of players   and we have 3 gyms; N =nr. of gyms\n",
    "then,when loop run,it will go through each key and value pair that could be existing, That would make the loop\n",
    "1. M1 x N1\n",
    "2. M1 x N2\n",
    "3. M1 x N3\n",
    "4. M2 x N1\n",
    "5. M2 x N2\n",
    "6. M2 x N3\n",
    "\n",
    "So I would say, 6 times loop run.\n"
   ]
  },
  {
   "cell_type": "markdown",
   "metadata": {},
   "source": [
    "## 6. Calculate player \"power\".\n",
    "\n",
    "Define a function that will calculate a player's \"power\". Player power is defined as the sum of the base statistics all of their Pokemon.\n",
    "\n",
    "$$\n",
    "\\text{player power } = \\sum_{i = 1}^{n}\\text{attack}_i + \\text{defense}_i + \\text{special attack}_i + \\text{special defense}_i\n",
    "$$\n",
    "\n",
    "Where $i$ is an individual Pokemon in a player's `player_pokemon`. ($\\sum$ just means sum, so you're just adding up all the attributes listed above for all the Pokemon in the player's `player_pokemon`).\n",
    "\n",
    "Your function should:\n",
    "\n",
    "*  Accept a `poke_players` dictionary and a `player_id` as arguments.\n",
    "*  For the specified player_id, look up that player's Pokemon.\n",
    "*  Find and aggregate the attack and defense values for each of the player's Pokemon.\n",
    "*  Print \"[player name]'s power is [player power].\", where the player power is the sum of the base statistics for all of their Pokemon.\n",
    "*  Return the player's power value.\n",
    "\n",
    "Check your work by displaying Pokemon power for each of your players."
   ]
  },
  {
   "cell_type": "markdown",
   "metadata": {},
   "source": [
    "#EXAMPLE CARA GUNA DEF \n",
    "#FOR REFERENCE ONLY\n",
    "\n",
    "def calculate_total_score(student_scores):\n",
    "    total_scores = {}  # Initialize an empty dictionary to store total scores\n",
    "\n",
    "    # Iterate through each student in the student_scores dictionary\n",
    "    for student, scores in student_scores.items():\n",
    "        total_score = sum(scores)  # Calculate the total score for the student\n",
    "        total_scores[student] = total_score  # Store the total score in the dictionary\n",
    "\n",
    "    return total_scores  # Return the dictionary of total scores\n",
    "    break\n",
    "# Example usage:\n",
    "student_scores = {\n",
    "    'Alice': [80, 75, 90],\n",
    "    'Bob': [85, 90, 88],\n",
    "    'Charlie': [92, 87, 85]\n",
    "}\n",
    "total_scores = calculate_total_score(student_scores)\n",
    "print(total_scores)"
   ]
  },
  {
   "cell_type": "code",
   "execution_count": null,
   "metadata": {},
   "outputs": [],
   "source": [
    "def get_power(player_id, player_dict):\n",
    "    pass"
   ]
  },
  {
   "cell_type": "code",
   "execution_count": null,
   "metadata": {},
   "outputs": [],
   "source": [
    "'''def get_power(player_id, poke_players):\n",
    "    sum_power= {}\n",
    "\n",
    "    for player_id, player_dict in poke_players.item():\n",
    "        poke_power = sum(pokemon_attributes)\n",
    "        sum_power[player_pokemon] = poke_power\n",
    "\n",
    "    return sum_power\n",
    "    CANCEL'''\n",
    "        "
   ]
  },
  {
   "cell_type": "code",
   "execution_count": 144,
   "metadata": {},
   "outputs": [
    {
     "data": {
      "text/plain": [
       "{1: {'player_id': 1,\n",
       "  'player_name': 'Jibah',\n",
       "  'gyms_visited': 'ebay.com',\n",
       "  'player_pokemon': {1: {'poke_id': 1,\n",
       "    'poke_name': 'charmander',\n",
       "    'poke_type': 'fire'}},\n",
       "  'time_played': 0.0},\n",
       " 2: {'player_id': 2,\n",
       "  'player_name': 'Hannan',\n",
       "  'gyms_visited': 'amazon.com',\n",
       "  'player_pokemon': {2: {'poke_id': 2,\n",
       "    'poke_name': 'squirtle',\n",
       "    'poke_type': 'water'},\n",
       "   3: {'poke_id': 3, 'poke_name': 'bulbasaur', 'poke_type': 'poison'}},\n",
       "  'time_played': 0.0}}"
      ]
     },
     "execution_count": 144,
     "metadata": {},
     "output_type": "execute_result"
    }
   ],
   "source": [
    "poke_players"
   ]
  },
  {
   "cell_type": "markdown",
   "metadata": {},
   "source": [
    "#NI TADI SEBAB LUPA LETAK BREAK DALAM FOR LOOP\n",
    "# Define a dictionary to store player information for each player_id\n",
    "all_players_info = {}\n",
    "\n",
    "# Iterate over each player_id in poke_players\n",
    "for player_id, player_dict in poke_players.items():\n",
    "    all_players_info[player_id] = player_dict\n",
    "\n",
    "# Now you can access the information for each player_id separately"
   ]
  },
  {
   "cell_type": "code",
   "execution_count": 168,
   "metadata": {
    "scrolled": true
   },
   "outputs": [],
   "source": [
    "#mula2 sekali obj kita nak tau power, so\n",
    "'''1. kita kena tau nak tambah power ikut player, so kena guna PLAYER_ID (wujud ke dak,guna if else)\n",
    "2.kita nak dapat info nama player dengan pokemon , jadi kena access player info dari players dict aka POKE_PLAYERS yg kita ada (cont. reiterate)\n",
    "3.dalam PLAYER_POKEMON, ada key poke_id dgn pokemon_infos,jadi kita kena kira POWER dlmpokemon_info (reiterate jugak, dan list agg)\n",
    "4.pastu kita nak display bila kita run function ni, yang tunjuk this player has this much power,so print sth waktu kita run\n",
    "5.return power yang kita dapat\n",
    "6. kalau tak lepas filter 1, aka player wujud ke tak, buat else\n",
    "'''\n",
    "# Define the get_power function (refer ke id which is, dalam player dict)\n",
    "\n",
    "def get_power(player_id, poke_players): #SEBAB KITA NAK TENGOK POWER KE CERTAIN PLAYER DAN NAK REFER KE PLAYER INFODALAM PLAYER DICT TUWHICH IS POKEPLAYER\n",
    "    \n",
    "    if player_id in poke_players: #TENGOK DULU WUJUD KE IDOK PLAYER TU\n",
    "        player_dict = poke_players[player_id]  # player_dict tu adalah value untuk poke_players, so lepas ni depa refer terus bahagian value poke_players\n",
    "        player_name = player_dict['player_name']  # player name dalam player_dict ,ni indexing macam biasa\n",
    "        player_pokemon = player_dict.get('player_pokemon', {})  # cari pokemon tapi sbb tak pasti ada ke idok, buat get() , default to an empty dictionary\n",
    "        '''using player_dict.get('player_pokemon', {}) so that even if player_dict does not contain the key 'player_pokemon', \n",
    "        the code will not raise an error. \n",
    "        Instead, it will provide an empty dictionary as a default value, which allows the code to continue executing without interruption.\n",
    "        satu lagi sebab takdak detailpower2 dalam player_pokemon ni, kita nak tambah agg tu, so..'''\n",
    "\n",
    "        total_power = 0   # SEBAB KITA BUAT DEF NI UNTUK KIRA TOTAL POWER, IF PLAYER EXIST KITA PROCEED UTK KIRA POWER AAAAAARRGHHHHHHHHHHHHHHHHHH\n",
    "\n",
    "        # NI KITA MANAGE UNTUK POKEMON TU PULAK,\n",
    "        #SEBABKAN PLAYER WUJUD,KITA DAH DECIDE NAK KIRA POWER, KITA PI KE POKEMON PART PULAK\n",
    "        for pokemon_id, pokemon_details in player_pokemon.items(): #kita state key & value utk player_pokemon\n",
    "            # Aggregate the attack and defense values for each Pokémon , SO KENA TAMBAH IKUT DALAM SOALAN\n",
    "            #\"aggregate\" typically refers to the process of combining multiple values into a single value. \n",
    "            attack = pokemon_details.get('attack', 0)  # Get all yada yada default to 0 if not present\n",
    "            defense = pokemon_details.get('defense', 0)  \n",
    "            special_attack = pokemon_details.get('special_attack', 0)\n",
    "            special_defense = pokemon_details.get('special_defense', 0)\n",
    "            total_power += attack + defense + special_attack + special_defense  # so dah setel perkara ketiga\n",
    "\n",
    "        '''The for loop allows you to process each Pokémon individually, ensuring that you include all of their stats in the calculation of the total power. \n",
    "        Without the loop, you wouldn't be able to handle multiple Pokémon belonging to a player efficiently.''' \n",
    "        #even if guna triple quote,jangan lebih indent dari code line kita buat, kalau tidak, else yg kat bawah, akan affected\n",
    "\n",
    "        print(f\"{player_name}'s power is {total_power}.\")  # Print the player's power\n",
    "        return total_power  # Return the total power of the player\n",
    "    else:\n",
    "        print(\"Player not found.\")\n",
    "        return 0  # Return 0 if the player is not found\n",
    "       "
   ]
  },
  {
   "cell_type": "code",
   "execution_count": 169,
   "metadata": {},
   "outputs": [
    {
     "name": "stdout",
     "output_type": "stream",
     "text": [
      "Jibah's power is 0.\n"
     ]
    },
    {
     "data": {
      "text/plain": [
       "0"
      ]
     },
     "execution_count": 169,
     "metadata": {},
     "output_type": "execute_result"
    }
   ],
   "source": [
    "#ikut kita define def kat atas tu macam mana\n",
    "get_power(1, poke_players)"
   ]
  },
  {
   "cell_type": "code",
   "execution_count": 170,
   "metadata": {},
   "outputs": [
    {
     "name": "stdout",
     "output_type": "stream",
     "text": [
      "Hannan's power is 0.\n"
     ]
    },
    {
     "data": {
      "text/plain": [
       "0"
      ]
     },
     "execution_count": 170,
     "metadata": {},
     "output_type": "execute_result"
    }
   ],
   "source": [
    "get_power(2, poke_players)"
   ]
  },
  {
   "cell_type": "markdown",
   "metadata": {},
   "source": [
    "## 7. Load a Pokedex file containing all the Pokemon\n",
    "\n",
    "### Load data using the `with open()` method.\n",
    "\n",
    "While you were putting together the prototype code, your colleagues were preparing a dataset of Pokemon and their attributes (This was a rush job, so they may have picked some crazy values for some...). Your task is to load the data into a list of lists so you can manipulate it.\n",
    "\n",
    "* The `type` of the data should be a `list`\n",
    "  * The `type` of each element in that list should be a `list`\n",
    "    * The `type` of each element in the sub-list should be `str` or `float`.\n",
    "\n",
    "The code provided loads the data into one looooong `str`. To get it into the correct format:\n",
    "* Use `your_string.replace()` to remove `\"`, where `your_string` is any object of type `str`. \n",
    "* Use `your_string.split()` to create a new row for each line. New lines are denoted with a `'\\n'`.\n",
    "* Iterate through your data. Use `try/except` to cast numeric data as type `float`. \n",
    "\n",
    "Your end result is effectively a matrix. Each list $i$ in the outer list is a row, and the $j$th elements of list together form the *j*th column, which represents a data attribute. The first three lists in your Pokedex list should look like this:\n",
    "\n",
    "    ['PokedexNumber', 'Name', 'Type', 'Total', 'HP', 'Attack', 'Defense', 'SpecialAttack', 'SpecialDefense', 'Speed']\n",
    "    [1.0, 'Bulbasaur', 'GrassPoison', 318.0, 45.0, 49.0, 49.0, 65.0, 65.0, 45.0]\n",
    "    [2.0, 'Ivysaur', 'GrassPoison', 405.0, 60.0, 62.0, 63.0, 80.0, 80.0, 60.0]\n",
    "    \n",
    "**WARNING:** Don't print or display your entire new pokedex! Viewing that many entries will clog up your notebook and make it difficult to read."
   ]
  },
  {
   "cell_type": "code",
   "execution_count": 228,
   "metadata": {},
   "outputs": [],
   "source": [
    "# Code to read in pokedex info\n",
    "raw_pd = ''\n",
    "pokedex_file = 'pokedex_basic_2.csv'\n",
    "with open(pokedex_file, 'r') as f:\n",
    "    raw_pd = f.read()\n",
    "    \n",
    "# the pokedex string is assigned to the raw_pd variable"
   ]
  },
  {
   "cell_type": "markdown",
   "metadata": {},
   "source": [
    "#SECOND METHOD, no solution,idk, ignored\n",
    "new_pd = []\n",
    "# Step 1: Remove unnecessary characters\n",
    "new_pd = raw_pd.replace('\"', '').replace('\\n', '')\n",
    "\n",
    "# Step 2: Split the string into rows\n",
    "rows = new_pd.split('\\n')\n",
    "\n",
    "# Step 3: Split each row into columns\n",
    "formatted_data = [row.split(',') for row in rows]"
   ]
  },
  {
   "cell_type": "markdown",
   "metadata": {},
   "source": [
    "# Step 4: Convert numeric data\n",
    "for row in formatted_data:\n",
    "    for i in range(3, len(row)):  # Start from index 3 to skip non-numeric columns\n",
    "        try:\n",
    "            row[i] = float(row[i])  # Convert to float\n",
    "        except ValueError:\n",
    "            pass  # Skip conversion if not a valid number\n",
    " #awat yang ni dia takmau separate ikut columnnn\n",
    "# Print the formatted data\n",
    "for row in formatted_data:\n",
    "    print(row)\n",
    "\n",
    "#NO SOLUTION,IGNORED"
   ]
  },
  {
   "cell_type": "code",
   "execution_count": 229,
   "metadata": {},
   "outputs": [
    {
     "data": {
      "text/plain": [
       "'PokedexNumber,Name,Type,Total,HP,Attack,Defense,SpecialAttack,SpecialDefense,Speed\\n001,Bulbasaur,GrassPoison,318,45,49,49,65,65,45\\n002,Ivysaur,GrassPoison,405,60,62,63,80,80,60\\n003,Venusaur,GrassPoison,525,80,82,83,100,100,80\\n003,VenusaurMega Venusaur,GrassPoison,625,80,100,123,122,120,80\\n004,Charmander,Fire,309,39,52,43,60,50,65\\n005,Charmeleon,Fire,405,58,64,58,80,65,80\\n006,Charizard,FireFlying,534,78,84,78,109,85,100\\n006,CharizardMega Charizard X,FireDragon,634,78,130,111,130,85,100\\n006,CharizardMega Charizard Y,FireFlying,634,78,104,78,159,115,100\\n007,Squirtle,Water,314,44,48,65,50,64,43\\n008,Wartortle,Water,405,59,63,80,65,80,58\\n009,Blastoise,Water,530,79,83,100,85,105,78\\n009,BlastoiseMega Blastoise,Water,630,79,103,120,135,115,78\\n010,Caterpie,Bug,195,45,30,35,20,20,45'"
      ]
     },
     "execution_count": 229,
     "metadata": {},
     "output_type": "execute_result"
    }
   ],
   "source": [
    "# Step 1: Remove unnecessary characters\n",
    "new_pd = raw_pd.replace('\"', '')\n",
    "new_pd"
   ]
  },
  {
   "cell_type": "code",
   "execution_count": 230,
   "metadata": {},
   "outputs": [
    {
     "data": {
      "text/plain": [
       "['PokedexNumber,Name,Type,Total,HP,Attack,Defense,SpecialAttack,SpecialDefense,Speed',\n",
       " '001,Bulbasaur,GrassPoison,318,45,49,49,65,65,45',\n",
       " '002,Ivysaur,GrassPoison,405,60,62,63,80,80,60',\n",
       " '003,Venusaur,GrassPoison,525,80,82,83,100,100,80',\n",
       " '003,VenusaurMega Venusaur,GrassPoison,625,80,100,123,122,120,80',\n",
       " '004,Charmander,Fire,309,39,52,43,60,50,65',\n",
       " '005,Charmeleon,Fire,405,58,64,58,80,65,80',\n",
       " '006,Charizard,FireFlying,534,78,84,78,109,85,100',\n",
       " '006,CharizardMega Charizard X,FireDragon,634,78,130,111,130,85,100',\n",
       " '006,CharizardMega Charizard Y,FireFlying,634,78,104,78,159,115,100',\n",
       " '007,Squirtle,Water,314,44,48,65,50,64,43',\n",
       " '008,Wartortle,Water,405,59,63,80,65,80,58',\n",
       " '009,Blastoise,Water,530,79,83,100,85,105,78',\n",
       " '009,BlastoiseMega Blastoise,Water,630,79,103,120,135,115,78',\n",
       " '010,Caterpie,Bug,195,45,30,35,20,20,45']"
      ]
     },
     "execution_count": 230,
     "metadata": {},
     "output_type": "execute_result"
    }
   ],
   "source": [
    "# Step 2: Split the string into rows\n",
    "rows = new_pd.split('\\n')\n",
    "rows"
   ]
  },
  {
   "cell_type": "code",
   "execution_count": 265,
   "metadata": {},
   "outputs": [
    {
     "name": "stdout",
     "output_type": "stream",
     "text": [
      "['PokedexNumber', 'Name', 'Type', 'Total', 'HP', 'Attack', 'Defense', 'SpecialAttack', 'SpecialDefense', 'Speed']\n",
      "[1.0, 'Bulbasaur', 'GrassPoison', 318.0, 45.0, 49.0, 49.0, 65.0, 65.0, 45.0]\n",
      "[2.0, 'Ivysaur', 'GrassPoison', 405.0, 60.0, 62.0, 63.0, 80.0, 80.0, 60.0]\n",
      "[3.0, 'Venusaur', 'GrassPoison', 525.0, 80.0, 82.0, 83.0, 100.0, 100.0, 80.0]\n",
      "[3.0, 'VenusaurMega Venusaur', 'GrassPoison', 625.0, 80.0, 100.0, 123.0, 122.0, 120.0, 80.0]\n",
      "[4.0, 'Charmander', 'Fire', 309.0, 39.0, 52.0, 43.0, 60.0, 50.0, 65.0]\n",
      "[5.0, 'Charmeleon', 'Fire', 405.0, 58.0, 64.0, 58.0, 80.0, 65.0, 80.0]\n",
      "[6.0, 'Charizard', 'FireFlying', 534.0, 78.0, 84.0, 78.0, 109.0, 85.0, 100.0]\n",
      "[6.0, 'CharizardMega Charizard X', 'FireDragon', 634.0, 78.0, 130.0, 111.0, 130.0, 85.0, 100.0]\n",
      "[6.0, 'CharizardMega Charizard Y', 'FireFlying', 634.0, 78.0, 104.0, 78.0, 159.0, 115.0, 100.0]\n",
      "[7.0, 'Squirtle', 'Water', 314.0, 44.0, 48.0, 65.0, 50.0, 64.0, 43.0]\n",
      "[8.0, 'Wartortle', 'Water', 405.0, 59.0, 63.0, 80.0, 65.0, 80.0, 58.0]\n",
      "[9.0, 'Blastoise', 'Water', 530.0, 79.0, 83.0, 100.0, 85.0, 105.0, 78.0]\n",
      "[9.0, 'BlastoiseMega Blastoise', 'Water', 630.0, 79.0, 103.0, 120.0, 135.0, 115.0, 78.0]\n",
      "[10.0, 'Caterpie', 'Bug', 195.0, 45.0, 30.0, 35.0, 20.0, 20.0, 45.0]\n"
     ]
    }
   ],
   "source": [
    "# Step 3: Split each row into columns and convert numeric data\n",
    "formatted_data = []\n",
    "for row in rows:\n",
    "    # Split row into columns\n",
    "    columns = row.split(',')\n",
    "    formatted_row = []\n",
    "    for i, column in enumerate(columns):\n",
    "        # Convert numeric data to float, keep non-numeric data as str\n",
    "        try:\n",
    "            formatted_row.append(float(column))\n",
    "        except ValueError:\n",
    "            formatted_row.append(column)\n",
    "    formatted_data.append(formatted_row)\n",
    "\n",
    "# Print the formatted data\n",
    "for row in formatted_data:\n",
    "    print(row)"
   ]
  },
  {
   "cell_type": "markdown",
   "metadata": {},
   "source": [
    "## 8. Changing Types\n",
    "\n",
    "### A) Convert your data into a dictionary.\n",
    "\n",
    "Your `dict` should...\n",
    "* have `keys` of the new `pokedex` as the `PokedexNumber`\n",
    "* have `values` containing data for each pokemon in a dictionary form, just like our `pokedex` from before\n",
    "  * Keep in mind, the `keys` here are a little bit different than the original `pokedex`.\n",
    "  * Be careful of the header, you do not want to include that as a Pokemon.\n",
    "* **WARNING:** Don't display your entire `pokedex` when turning this in! Viewing that many entries will clog up your notebook and make it difficult to read. If you'd like to visualize your `pokedex`, index with a few of its `keys`.\n",
    "\n",
    "Your `new_pd_dict` should be organized like...\n",
    "\n",
    "```python\n",
    "{1.0: {'Attack': 49.0,\n",
    "  'Defense': 49.0,\n",
    "  'HP': 45.0,\n",
    "  'Name': 'Bulbasaur',\n",
    "  'PokedexNumber': 1.0,\n",
    "  'SpecialAttack': 65.0,\n",
    "  'SpecialDefense': 65.0,\n",
    "  'Speed': 45.0,\n",
    "  'Total': 318.0,\n",
    "  'Type': 'GrassPoison'},\n",
    " 2.0: {'Attack': 62.0,\n",
    "  'Defense': 63.0,\n",
    "  'HP': 60.0,\n",
    "  'Name': 'Ivysaur',\n",
    "```"
   ]
  },
  {
   "cell_type": "markdown",
   "metadata": {},
   "source": [
    "new_pd_dict = {} # empty dict toa append to.\n",
    "#what is row and body????????????\n",
    "for row in body:\n",
    "    poke = {i:j for i,j in zip(header, row)} # goes through each row and uses the header to create keys.\n",
    "    new_pd_dict[poke['PokedexNumber']] = poke #????"
   ]
  },
  {
   "cell_type": "markdown",
   "metadata": {},
   "source": [
    "##### METHOD 1\n",
    "<img src=\"column_row_table_hiw.jpg\" alt=\"Alt text\" width=\"600\" height=\"500\">"
   ]
  },
  {
   "cell_type": "code",
   "execution_count": 267,
   "metadata": {},
   "outputs": [
    {
     "data": {
      "text/plain": [
       "['Caterpie', 'Bug', 195.0, 45.0, 30.0, 35.0, 20.0, 20.0, 45.0]"
      ]
     },
     "execution_count": 267,
     "metadata": {},
     "output_type": "execute_result"
    }
   ],
   "source": [
    "header = row[0]\n",
    "body = row[1:]\n",
    "body\n",
    "#the reason we dont choose row as the data to be extacted as column and row,is because it is not the total rows\n",
    "#and the rows itself is still not completely cleaned, so we choose formatted_data"
   ]
  },
  {
   "cell_type": "code",
   "execution_count": 268,
   "metadata": {},
   "outputs": [
    {
     "data": {
      "text/plain": [
       "{'PokedexNumber': 1.0,\n",
       " 'Name': 'Bulbasaur',\n",
       " 'Type': 'GrassPoison',\n",
       " 'Total': 318.0,\n",
       " 'HP': 45.0,\n",
       " 'Attack': 49.0,\n",
       " 'Defense': 49.0,\n",
       " 'SpecialAttack': 65.0,\n",
       " 'SpecialDefense': 65.0,\n",
       " 'Speed': 45.0}"
      ]
     },
     "execution_count": 268,
     "metadata": {},
     "output_type": "execute_result"
    }
   ],
   "source": [
    "header = formatted_data[0]\n",
    "body = formatted_data[1:]\n",
    "new_pd_dict_2 = {}\n",
    "'''i = column(header), j is row\n",
    "Together, zip(header, row) pairs each element from header with its corresponding element from row'''\n",
    "for row in body:\n",
    "    poke = {i:j for i,j in zip(header, row)} # Create the dictionary for the CURRENT ROW kita guna untuk for loop ni\n",
    "     # Add the 'PokedexNumber' or any other unique identifier as the key for new_pd_dict_2\n",
    "     \n",
    "    # Extract the PokedexNumber as the key for new_pd_dict_2\n",
    "    pokedex_number = poke['PokedexNumber']\n",
    "\n",
    "    new_pd_dict_2[pokedex_number] = poke  #dict[key]:value\n",
    "\n",
    "new_pd_dict_2[1]"
   ]
  },
  {
   "cell_type": "markdown",
   "metadata": {},
   "source": [
    "###### METHOD 2"
   ]
  },
  {
   "cell_type": "code",
   "execution_count": 249,
   "metadata": {},
   "outputs": [],
   "source": [
    "'''FROM DATA TO DICTIONARY\n",
    "1. MANAGE THE DATA\n",
    "-IMPORT DATA >>> CHECKED\n",
    "-CLEAN DATA >>> CHECKED\n",
    "-ASSIGN HEADER BODY >>> \n",
    "2. CREATE DICT\n",
    "dari raw data kita extract dari csv, kita kena assign dulu mana header, mana body'''\n",
    "#define dulu data kita yang dah cleaned dari csv tu\n",
    "#but as we already have formatted_data for this exercise, let just define the header and body 1st\n",
    "#by indexing is it?\n",
    "header = formatted_data[0]\n",
    "body = formatted_data[1:]\n",
    "#now dah assign which is what, jom buat dictionary"
   ]
  },
  {
   "cell_type": "code",
   "execution_count": 250,
   "metadata": {},
   "outputs": [],
   "source": [
    "'''range(len(header)):\n",
    "len(header): number of columns in dataset, as header contains the column names.\n",
    "range(len(header)): a sequence of numbers from 0 to one less than the length of the header. this represents index of the columns in dataset.\n",
    "'''\n",
    "'''for i in range(len(header)), \n",
    "it iterate over each column index, \n",
    "to access the corresponding column name from header, and the corresponding value from the current row.\n",
    "yang ni ensures that each column name is paired with its corresponding value, \n",
    "forming key-value pairs for dict\n",
    "'''\n",
    "new_pd_dict = {}\n",
    "\n",
    "for row in body:\n",
    "    #poke= {key:value}\n",
    "    poke = {header[i]: row[i] for i in range(len(header))}\n",
    "    new_pd_dict[row[0]] = poke  # Using PokedexNumber as the key iaitu row[0]"
   ]
  },
  {
   "cell_type": "code",
   "execution_count": 255,
   "metadata": {},
   "outputs": [
    {
     "name": "stdout",
     "output_type": "stream",
     "text": [
      "1.0 {'PokedexNumber': 1.0, 'Name': 'Bulbasaur', 'Type': 'GrassPoison', 'Total': 318.0, 'HP': 45.0, 'Attack': 49.0, 'Defense': 49.0, 'SpecialAttack': 65.0, 'SpecialDefense': 65.0, 'Speed': 45.0}\n",
      "2.0 {'PokedexNumber': 2.0, 'Name': 'Ivysaur', 'Type': 'GrassPoison', 'Total': 405.0, 'HP': 60.0, 'Attack': 62.0, 'Defense': 63.0, 'SpecialAttack': 80.0, 'SpecialDefense': 80.0, 'Speed': 60.0}\n",
      "3.0 {'PokedexNumber': 3.0, 'Name': 'VenusaurMega Venusaur', 'Type': 'GrassPoison', 'Total': 625.0, 'HP': 80.0, 'Attack': 100.0, 'Defense': 123.0, 'SpecialAttack': 122.0, 'SpecialDefense': 120.0, 'Speed': 80.0}\n",
      "4.0 {'PokedexNumber': 4.0, 'Name': 'Charmander', 'Type': 'Fire', 'Total': 309.0, 'HP': 39.0, 'Attack': 52.0, 'Defense': 43.0, 'SpecialAttack': 60.0, 'SpecialDefense': 50.0, 'Speed': 65.0}\n",
      "5.0 {'PokedexNumber': 5.0, 'Name': 'Charmeleon', 'Type': 'Fire', 'Total': 405.0, 'HP': 58.0, 'Attack': 64.0, 'Defense': 58.0, 'SpecialAttack': 80.0, 'SpecialDefense': 65.0, 'Speed': 80.0}\n",
      "6.0 {'PokedexNumber': 6.0, 'Name': 'CharizardMega Charizard Y', 'Type': 'FireFlying', 'Total': 634.0, 'HP': 78.0, 'Attack': 104.0, 'Defense': 78.0, 'SpecialAttack': 159.0, 'SpecialDefense': 115.0, 'Speed': 100.0}\n",
      "7.0 {'PokedexNumber': 7.0, 'Name': 'Squirtle', 'Type': 'Water', 'Total': 314.0, 'HP': 44.0, 'Attack': 48.0, 'Defense': 65.0, 'SpecialAttack': 50.0, 'SpecialDefense': 64.0, 'Speed': 43.0}\n",
      "8.0 {'PokedexNumber': 8.0, 'Name': 'Wartortle', 'Type': 'Water', 'Total': 405.0, 'HP': 59.0, 'Attack': 63.0, 'Defense': 80.0, 'SpecialAttack': 65.0, 'SpecialDefense': 80.0, 'Speed': 58.0}\n",
      "9.0 {'PokedexNumber': 9.0, 'Name': 'BlastoiseMega Blastoise', 'Type': 'Water', 'Total': 630.0, 'HP': 79.0, 'Attack': 103.0, 'Defense': 120.0, 'SpecialAttack': 135.0, 'SpecialDefense': 115.0, 'Speed': 78.0}\n",
      "10.0 {'PokedexNumber': 10.0, 'Name': 'Caterpie', 'Type': 'Bug', 'Total': 195.0, 'HP': 45.0, 'Attack': 30.0, 'Defense': 35.0, 'SpecialAttack': 20.0, 'SpecialDefense': 20.0, 'Speed': 45.0}\n"
     ]
    }
   ],
   "source": [
    "# display dict\n",
    "for PokedexNumber, Poke in new_pd_dict.items():\n",
    "    print(PokedexNumber, Poke)"
   ]
  },
  {
   "cell_type": "code",
   "execution_count": 256,
   "metadata": {},
   "outputs": [
    {
     "data": {
      "text/plain": [
       "{'PokedexNumber': 3.0,\n",
       " 'Name': 'VenusaurMega Venusaur',\n",
       " 'Type': 'GrassPoison',\n",
       " 'Total': 625.0,\n",
       " 'HP': 80.0,\n",
       " 'Attack': 100.0,\n",
       " 'Defense': 123.0,\n",
       " 'SpecialAttack': 122.0,\n",
       " 'SpecialDefense': 120.0,\n",
       " 'Speed': 80.0}"
      ]
     },
     "execution_count": 256,
     "metadata": {},
     "output_type": "execute_result"
    }
   ],
   "source": [
    "#check\n",
    "new_pd_dict[3] \n",
    "#key kat sini refer ke pokedex number\n"
   ]
  },
  {
   "cell_type": "markdown",
   "metadata": {},
   "source": [
    "### B) (OPTIONAL) Orient your `new_pd_dict` by columns.\n",
    "\n",
    "Your new Pokedex is oriented by index, meaning that each entry is a row value. Your goal in this exercise is to orient the Pokedex dict by columns, meaning:\n",
    "\n",
    "* The keys of the dictionary are the column names\n",
    "* The values of the dictionary are a **column vector** of that feature.\n",
    "* **HINT:** Read documentation on `defaultdict` (`from collections import defaultdict`), this may help!\n",
    "* **BONUS:** Do this with list and/or dictionary comprehensions only"
   ]
  },
  {
   "cell_type": "code",
   "execution_count": 271,
   "metadata": {},
   "outputs": [
    {
     "data": {
      "text/plain": [
       "{'PokedexNumber': [1.0, 2.0, 3.0, 4.0, 5.0, 6.0, 7.0, 8.0, 9.0, 10.0],\n",
       " 'Name': ['Bulbasaur',\n",
       "  'Ivysaur',\n",
       "  'VenusaurMega Venusaur',\n",
       "  'Charmander',\n",
       "  'Charmeleon',\n",
       "  'CharizardMega Charizard Y',\n",
       "  'Squirtle',\n",
       "  'Wartortle',\n",
       "  'BlastoiseMega Blastoise',\n",
       "  'Caterpie'],\n",
       " 'Type': ['GrassPoison',\n",
       "  'GrassPoison',\n",
       "  'GrassPoison',\n",
       "  'Fire',\n",
       "  'Fire',\n",
       "  'FireFlying',\n",
       "  'Water',\n",
       "  'Water',\n",
       "  'Water',\n",
       "  'Bug'],\n",
       " 'Total': [318.0,\n",
       "  405.0,\n",
       "  625.0,\n",
       "  309.0,\n",
       "  405.0,\n",
       "  634.0,\n",
       "  314.0,\n",
       "  405.0,\n",
       "  630.0,\n",
       "  195.0],\n",
       " 'HP': [45.0, 60.0, 80.0, 39.0, 58.0, 78.0, 44.0, 59.0, 79.0, 45.0],\n",
       " 'Attack': [49.0, 62.0, 100.0, 52.0, 64.0, 104.0, 48.0, 63.0, 103.0, 30.0],\n",
       " 'Defense': [49.0, 63.0, 123.0, 43.0, 58.0, 78.0, 65.0, 80.0, 120.0, 35.0],\n",
       " 'SpecialAttack': [65.0,\n",
       "  80.0,\n",
       "  122.0,\n",
       "  60.0,\n",
       "  80.0,\n",
       "  159.0,\n",
       "  50.0,\n",
       "  65.0,\n",
       "  135.0,\n",
       "  20.0],\n",
       " 'SpecialDefense': [65.0,\n",
       "  80.0,\n",
       "  120.0,\n",
       "  50.0,\n",
       "  65.0,\n",
       "  115.0,\n",
       "  64.0,\n",
       "  80.0,\n",
       "  115.0,\n",
       "  20.0],\n",
       " 'Speed': [45.0, 60.0, 80.0, 65.0, 80.0, 100.0, 43.0, 58.0, 78.0, 45.0]}"
      ]
     },
     "execution_count": 271,
     "metadata": {},
     "output_type": "execute_result"
    }
   ],
   "source": [
    "#sekarang ni kita nak key tu adalah follow each column name , maksudnya menurun secara vertical bukan pokedex number \n",
    "# Initialize an empty dictionary to store the transposed data\n",
    "#kita nak data tu secara vertical\n",
    "transposed_dict = {} #transposed dia akan buat data secara menegak ke?\n",
    "\n",
    "# Iterate over the keys (PokedexNumbers) and values (poke dictionaries) in new_pd_dict\n",
    "#poke is the whole table, including the column and all the rows,a dn it is a dict\n",
    "#IF NAK GO THRU SOME CODES, BUAT FOR LOOP\n",
    "for pokedex_number, poke in new_pd_dict.items():\n",
    "    # Iterate over the keys (column names) and values (data) in each poke dictionary\n",
    "    for column_name, data in poke.items():\n",
    "        # poke = {i(column:j(row)} - kita nak namakan je la i;key tu apabenda, j;value tu apa\n",
    "        # If the column name already exists in transposed_dict, append the data to the corresponding list, so tak jadi bertindih la nama column tu\n",
    "        if column_name in transposed_dict:\n",
    "            transposed_dict[column_name].append(data)  \n",
    "        # If the column name doesn't exist, create a new list with the data\n",
    "        else:\n",
    "            transposed_dict[column_name] = [data]\n",
    "\n",
    "transposed_dict"
   ]
  },
  {
   "cell_type": "code",
   "execution_count": 350,
   "metadata": {},
   "outputs": [
    {
     "name": "stdout",
     "output_type": "stream",
     "text": [
      "dict_keys(['PokedexNumber', 'Name', 'Type', 'Total', 'HP', 'Attack', 'Defense', 'SpecialAttack', 'SpecialDefense', 'Speed'])\n"
     ]
    }
   ],
   "source": [
    "# Get all keys of the dictionary\n",
    "#MACAM MANA NAK LIST OUT SEMUA KEY UNTUK DICT\n",
    "#all_keys = dict_name.keys()\n",
    "all_keys = transposed_dict.keys()\n",
    "\n",
    "# Print all the keys\n",
    "print(all_keys)"
   ]
  },
  {
   "cell_type": "code",
   "execution_count": 270,
   "metadata": {},
   "outputs": [
    {
     "data": {
      "text/plain": [
       "['GrassPoison',\n",
       " 'GrassPoison',\n",
       " 'GrassPoison',\n",
       " 'Fire',\n",
       " 'Fire',\n",
       " 'FireFlying',\n",
       " 'Water',\n",
       " 'Water',\n",
       " 'Water',\n",
       " 'Bug']"
      ]
     },
     "execution_count": 270,
     "metadata": {},
     "output_type": "execute_result"
    }
   ],
   "source": [
    "transposed_dict['Type']"
   ]
  },
  {
   "cell_type": "code",
   "execution_count": 351,
   "metadata": {},
   "outputs": [
    {
     "data": {
      "text/plain": [
       "[49.0, 62.0, 100.0, 52.0, 64.0, 104.0, 48.0, 63.0, 103.0, 30.0]"
      ]
     },
     "execution_count": 351,
     "metadata": {},
     "output_type": "execute_result"
    }
   ],
   "source": [
    "transposed_dict['Attack']"
   ]
  },
  {
   "cell_type": "markdown",
   "metadata": {},
   "source": [
    "## 9. (OPTIONAL) Write a function to filter your pokedex!\n",
    "\n",
    "Your goal in this exercise is to search your Pokedex based on your own defined criteria! Build a function that...\n",
    "\n",
    "* Takes arguments of: \n",
    "  * a pokedex dict (can be either the row or column oriented dict, pick the one of your choice!)\n",
    "  * a `filter_options` dict (described below)\n",
    "* For parameters in your `filter_dict`, your function should return:\n",
    "  * pokemon that are >= (greater than or equal to) the value you passed in your `filter_dict` for that field for continuous values\n",
    "  * pokemon of that name or type for string values (equal)\n",
    "* Return a list of the individual pokemon dictionaries that meet your search criteria!\n",
    "\n",
    "Example:\n",
    "\n",
    "```python\n",
    "\n",
    "# Only filter based on parameters passed\n",
    "filter_options = {\n",
    "    'Attack':   25,\n",
    "    'Defense':  30,\n",
    "    'Type':     'Electric'\n",
    "}\n",
    "\n",
    "# Return records with attack >= 24, defense >= 30, and type == \"Electric\"\n",
    "# Also anticipate that other parameters can also be passed such as \"SpecialAttack\", \"Speed\", etc.\n",
    "filtered_pokedex(pokedex_data, filter=filter_options)\n",
    "\n",
    "# Example output:\n",
    "# [{'Attack': 30.0,\n",
    "#  'Defense': 50.0,\n",
    "#  'HP': 40.0,\n",
    "#  'Name': 'Voltorb',\n",
    "#  'SpecialAttack': 55.0,\n",
    "#  'SpecialDefense': 55.0,\n",
    "#  'Speed': 100.0,\n",
    "#  'Total': 330.0,\n",
    "#  'Type': 'Electric'},\n",
    "#  {'Attack': 30.0,\n",
    "#  'Defense': 33.0,\n",
    "#  'HP': 32.0,\n",
    "#  'Name': 'Pikachu',\n",
    "#  'SpecialAttack': 55.0,\n",
    "#  'SpecialDefense': 55.0,\n",
    "#  'Speed': 100.0,\n",
    "#  'Total': 330.0,\n",
    "#  'Type': 'Electric'},\n",
    "#  ... etc\n",
    "#  ]\n",
    "\n",
    "```\n",
    "\n"
   ]
  },
  {
   "cell_type": "code",
   "execution_count": 278,
   "metadata": {},
   "outputs": [
    {
     "data": {
      "text/plain": [
       "{1: {'poke_id': 1, 'poke_name': 'charmander', 'poke_type': 'fire'},\n",
       " 2: {'poke_id': 2, 'poke_name': 'squirtle', 'poke_type': 'water'},\n",
       " 3: {'poke_id': 3, 'poke_name': 'bulbasaur', 'poke_type': 'poison'}}"
      ]
     },
     "execution_count": 278,
     "metadata": {},
     "output_type": "execute_result"
    }
   ],
   "source": [
    "pokedex"
   ]
  },
  {
   "cell_type": "code",
   "execution_count": 315,
   "metadata": {},
   "outputs": [
    {
     "data": {
      "text/plain": [
       "{1.0: {'PokedexNumber': 1.0,\n",
       "  'Name': 'Bulbasaur',\n",
       "  'Type': 'GrassPoison',\n",
       "  'Total': 318.0,\n",
       "  'HP': 45.0,\n",
       "  'Attack': 49.0,\n",
       "  'Defense': 49.0,\n",
       "  'SpecialAttack': 65.0,\n",
       "  'SpecialDefense': 65.0,\n",
       "  'Speed': 45.0},\n",
       " 2.0: {'PokedexNumber': 2.0,\n",
       "  'Name': 'Ivysaur',\n",
       "  'Type': 'GrassPoison',\n",
       "  'Total': 405.0,\n",
       "  'HP': 60.0,\n",
       "  'Attack': 62.0,\n",
       "  'Defense': 63.0,\n",
       "  'SpecialAttack': 80.0,\n",
       "  'SpecialDefense': 80.0,\n",
       "  'Speed': 60.0},\n",
       " 3.0: {'PokedexNumber': 3.0,\n",
       "  'Name': 'VenusaurMega Venusaur',\n",
       "  'Type': 'GrassPoison',\n",
       "  'Total': 625.0,\n",
       "  'HP': 80.0,\n",
       "  'Attack': 100.0,\n",
       "  'Defense': 123.0,\n",
       "  'SpecialAttack': 122.0,\n",
       "  'SpecialDefense': 120.0,\n",
       "  'Speed': 80.0},\n",
       " 4.0: {'PokedexNumber': 4.0,\n",
       "  'Name': 'Charmander',\n",
       "  'Type': 'Fire',\n",
       "  'Total': 309.0,\n",
       "  'HP': 39.0,\n",
       "  'Attack': 52.0,\n",
       "  'Defense': 43.0,\n",
       "  'SpecialAttack': 60.0,\n",
       "  'SpecialDefense': 50.0,\n",
       "  'Speed': 65.0},\n",
       " 5.0: {'PokedexNumber': 5.0,\n",
       "  'Name': 'Charmeleon',\n",
       "  'Type': 'Fire',\n",
       "  'Total': 405.0,\n",
       "  'HP': 58.0,\n",
       "  'Attack': 64.0,\n",
       "  'Defense': 58.0,\n",
       "  'SpecialAttack': 80.0,\n",
       "  'SpecialDefense': 65.0,\n",
       "  'Speed': 80.0},\n",
       " 6.0: {'PokedexNumber': 6.0,\n",
       "  'Name': 'CharizardMega Charizard Y',\n",
       "  'Type': 'FireFlying',\n",
       "  'Total': 634.0,\n",
       "  'HP': 78.0,\n",
       "  'Attack': 104.0,\n",
       "  'Defense': 78.0,\n",
       "  'SpecialAttack': 159.0,\n",
       "  'SpecialDefense': 115.0,\n",
       "  'Speed': 100.0},\n",
       " 7.0: {'PokedexNumber': 7.0,\n",
       "  'Name': 'Squirtle',\n",
       "  'Type': 'Water',\n",
       "  'Total': 314.0,\n",
       "  'HP': 44.0,\n",
       "  'Attack': 48.0,\n",
       "  'Defense': 65.0,\n",
       "  'SpecialAttack': 50.0,\n",
       "  'SpecialDefense': 64.0,\n",
       "  'Speed': 43.0},\n",
       " 8.0: {'PokedexNumber': 8.0,\n",
       "  'Name': 'Wartortle',\n",
       "  'Type': 'Water',\n",
       "  'Total': 405.0,\n",
       "  'HP': 59.0,\n",
       "  'Attack': 63.0,\n",
       "  'Defense': 80.0,\n",
       "  'SpecialAttack': 65.0,\n",
       "  'SpecialDefense': 80.0,\n",
       "  'Speed': 58.0},\n",
       " 9.0: {'PokedexNumber': 9.0,\n",
       "  'Name': 'BlastoiseMega Blastoise',\n",
       "  'Type': 'Water',\n",
       "  'Total': 630.0,\n",
       "  'HP': 79.0,\n",
       "  'Attack': 103.0,\n",
       "  'Defense': 120.0,\n",
       "  'SpecialAttack': 135.0,\n",
       "  'SpecialDefense': 115.0,\n",
       "  'Speed': 78.0},\n",
       " 10.0: {'PokedexNumber': 10.0,\n",
       "  'Name': 'Caterpie',\n",
       "  'Type': 'Bug',\n",
       "  'Total': 195.0,\n",
       "  'HP': 45.0,\n",
       "  'Attack': 30.0,\n",
       "  'Defense': 35.0,\n",
       "  'SpecialAttack': 20.0,\n",
       "  'SpecialDefense': 20.0,\n",
       "  'Speed': 45.0}}"
      ]
     },
     "execution_count": 315,
     "metadata": {},
     "output_type": "execute_result"
    }
   ],
   "source": [
    "#we weill be using new_pd_dict_2, sebab detail lagi banyak dari pokedex?\n",
    "new_pd_dict_2"
   ]
  },
  {
   "cell_type": "code",
   "execution_count": 321,
   "metadata": {},
   "outputs": [],
   "source": [
    "def filter_pokedex(new_pd_dict_2, filter_options):\n",
    "    # Initialize an empty list to store the filtered pokemon\n",
    "    filtered_pokemon = []\n",
    "    \n",
    "    # Iterate over each Pokemon in the Pokedex   #GO THRU new_pd_dict_2, key=poke_id, value: pokemon\n",
    "    for poke_id, poke in new_pd_dict_2.items():\n",
    "        # Assume the Pokemon meets all filter criteria initially\n",
    "        meets_criteria = True\n",
    "        \n",
    "        # Iterate over each filter option\n",
    "        for field, value in filter_options.items():\n",
    "            # Check if the Pokemon's attribute matches the filter value\n",
    "            if poke[field] < value:\n",
    "                # If not, the Pokemon does not meet the criteria for this filter option\n",
    "                meets_criteria = False\n",
    "                # Exit the inner loop early since we already know the Pokemon doesn't meet the criteria\n",
    "                break\n",
    "        \n",
    "        # If the Pokemon meets all filter criteria, add it to the filtered list\n",
    "        if meets_criteria:\n",
    "            filtered_pokemon.append(poke)\n",
    "    \n",
    "    # Return the list of filtered Pokemon\n",
    "    return filtered_pokemon"
   ]
  },
  {
   "cell_type": "code",
   "execution_count": 346,
   "metadata": {},
   "outputs": [
    {
     "name": "stdout",
     "output_type": "stream",
     "text": [
      "Number of filtered Pokemon: 3\n",
      "{'PokedexNumber': 3.0, 'Name': 'VenusaurMega Venusaur', 'Type': 'GrassPoison', 'Total': 625.0, 'HP': 80.0, 'Attack': 100.0, 'Defense': 123.0, 'SpecialAttack': 122.0, 'SpecialDefense': 120.0, 'Speed': 80.0}\n",
      "{'PokedexNumber': 6.0, 'Name': 'CharizardMega Charizard Y', 'Type': 'FireFlying', 'Total': 634.0, 'HP': 78.0, 'Attack': 104.0, 'Defense': 78.0, 'SpecialAttack': 159.0, 'SpecialDefense': 115.0, 'Speed': 100.0}\n",
      "{'PokedexNumber': 9.0, 'Name': 'BlastoiseMega Blastoise', 'Type': 'Water', 'Total': 630.0, 'HP': 79.0, 'Attack': 103.0, 'Defense': 120.0, 'SpecialAttack': 135.0, 'SpecialDefense': 115.0, 'Speed': 78.0}\n"
     ]
    }
   ],
   "source": [
    "# Define your filter options\n",
    "filter_options = {\n",
    "    'Total': 550,\n",
    "    'Type': 'Fire'\n",
    "}\n",
    "# Call the filter_pokedex function with your Pokedex and filter options \n",
    "#snang nak penamaan\n",
    "filtered_pokemon = filter_pokedex(new_pd_dict_2, filter_options)\n",
    "\n",
    "# Print the length of the filtered pokemon list\n",
    "print(\"Number of filtered Pokemon:\", len(filtered_pokemon))\n",
    "\n",
    "# Print the filtered pokemon\n",
    "for poke in filtered_pokemon:\n",
    "    print(poke)\n",
    "\n",
    "\n",
    "#WHY BILA GUNA POKEMON INSTEAD OF POKE, CODE OUTPUT SAMA JA, dia boleh ke poke, pokemon,pokem?"
   ]
  },
  {
   "cell_type": "code",
   "execution_count": 347,
   "metadata": {},
   "outputs": [
    {
     "data": {
      "text/plain": [
       "[{'PokedexNumber': 3.0,\n",
       "  'Name': 'VenusaurMega Venusaur',\n",
       "  'Type': 'GrassPoison',\n",
       "  'Total': 625.0,\n",
       "  'HP': 80.0,\n",
       "  'Attack': 100.0,\n",
       "  'Defense': 123.0,\n",
       "  'SpecialAttack': 122.0,\n",
       "  'SpecialDefense': 120.0,\n",
       "  'Speed': 80.0},\n",
       " {'PokedexNumber': 6.0,\n",
       "  'Name': 'CharizardMega Charizard Y',\n",
       "  'Type': 'FireFlying',\n",
       "  'Total': 634.0,\n",
       "  'HP': 78.0,\n",
       "  'Attack': 104.0,\n",
       "  'Defense': 78.0,\n",
       "  'SpecialAttack': 159.0,\n",
       "  'SpecialDefense': 115.0,\n",
       "  'Speed': 100.0},\n",
       " {'PokedexNumber': 9.0,\n",
       "  'Name': 'BlastoiseMega Blastoise',\n",
       "  'Type': 'Water',\n",
       "  'Total': 630.0,\n",
       "  'HP': 79.0,\n",
       "  'Attack': 103.0,\n",
       "  'Defense': 120.0,\n",
       "  'SpecialAttack': 135.0,\n",
       "  'SpecialDefense': 115.0,\n",
       "  'Speed': 78.0}]"
      ]
     },
     "execution_count": 347,
     "metadata": {},
     "output_type": "execute_result"
    }
   ],
   "source": [
    "filtered_pokemon"
   ]
  },
  {
   "cell_type": "code",
   "execution_count": 348,
   "metadata": {},
   "outputs": [
    {
     "name": "stdout",
     "output_type": "stream",
     "text": [
      "Number of filtered Pokemon: 3\n",
      "{'PokedexNumber': 3.0, 'Name': 'VenusaurMega Venusaur', 'Type': 'GrassPoison', 'Total': 625.0, 'HP': 80.0, 'Attack': 100.0, 'Defense': 123.0, 'SpecialAttack': 122.0, 'SpecialDefense': 120.0, 'Speed': 80.0}\n",
      "{'PokedexNumber': 6.0, 'Name': 'CharizardMega Charizard Y', 'Type': 'FireFlying', 'Total': 634.0, 'HP': 78.0, 'Attack': 104.0, 'Defense': 78.0, 'SpecialAttack': 159.0, 'SpecialDefense': 115.0, 'Speed': 100.0}\n",
      "{'PokedexNumber': 9.0, 'Name': 'BlastoiseMega Blastoise', 'Type': 'Water', 'Total': 630.0, 'HP': 79.0, 'Attack': 103.0, 'Defense': 120.0, 'SpecialAttack': 135.0, 'SpecialDefense': 115.0, 'Speed': 78.0}\n"
     ]
    }
   ],
   "source": [
    "#how to index until subkey dict['key1']['subkey1']), \n",
    "#JOM CUBA UBAH VALUE KE LAGI TINGGI\n",
    "\n",
    "filter_options['Total'] = 600  #ni kena nak change value total   process renew value in dict\n",
    "\n",
    "#filtered_pokemon = filter_pokedex(new_pd_dict_2, filter_options)\n",
    "print(\"Number of filtered Pokemon:\", len(filtered_pokemon))\n",
    "\n",
    "# Print the filtered pokemon\n",
    "for poke in filtered_pokemon:\n",
    "    print(poke)"
   ]
  },
  {
   "cell_type": "code",
   "execution_count": 333,
   "metadata": {},
   "outputs": [
    {
     "name": "stdout",
     "output_type": "stream",
     "text": [
      "Pokemon ID: 1.0, Total: 318.0, Type: GrassPoison\n",
      "Pokemon ID: 2.0, Total: 405.0, Type: GrassPoison\n",
      "Pokemon ID: 3.0, Total: 625.0, Type: GrassPoison\n",
      "Pokemon ID: 4.0, Total: 309.0, Type: Fire\n",
      "Pokemon ID: 5.0, Total: 405.0, Type: Fire\n",
      "Pokemon ID: 6.0, Total: 634.0, Type: FireFlying\n",
      "Pokemon ID: 7.0, Total: 314.0, Type: Water\n",
      "Pokemon ID: 8.0, Total: 405.0, Type: Water\n",
      "Pokemon ID: 9.0, Total: 630.0, Type: Water\n",
      "Pokemon ID: 10.0, Total: 195.0, Type: Bug\n"
     ]
    }
   ],
   "source": [
    "for poke_id, poke in new_pd_dict_2.items():\n",
    "    print(f\"Pokemon ID: {poke_id}, Total: {poke['Total']}, Type: {poke['Type']}\")\n",
    "#Total: {poke['Total']}, Type: {poke['Type']}\")  - kita list out dua ni sebab kita nak check dua ni ja, if nak check yg lain, boleh ubah accrdingly\n",
    "#NAK CHECK ADA DAK POKEMON YANG FOLLOW THE FILTER PROCESS, SO KITA NAK CHECK DETAIL POKEMON TU"
   ]
  },
  {
   "cell_type": "code",
   "execution_count": null,
   "metadata": {},
   "outputs": [],
   "source": []
  }
 ],
 "metadata": {
  "anaconda-cloud": {},
  "kernelspec": {
   "display_name": "Python 3 (ipykernel)",
   "language": "python",
   "name": "python3"
  },
  "language_info": {
   "codemirror_mode": {
    "name": "ipython",
    "version": 3
   },
   "file_extension": ".py",
   "mimetype": "text/x-python",
   "name": "python",
   "nbconvert_exporter": "python",
   "pygments_lexer": "ipython3",
   "version": "3.11.7"
  }
 },
 "nbformat": 4,
 "nbformat_minor": 4
}
